{
 "cells": [
  {
   "cell_type": "code",
   "execution_count": 9,
   "metadata": {},
   "outputs": [
    {
     "data": {
      "image/png": "[encoded data removed]",
      "text/plain": [
       "<Figure size 640x480 with 1 Axes>"
      ]
     },
     "metadata": {},
     "output_type": "display_data"
    }
   ],
   "source": [
    "#### %matplotlib inline\n",
    "from captcha.image import ImageCaptcha\n",
    "from random import sample\n",
    "import os\n",
    "from PIL import Image\n",
    "from matplotlib import pyplot as plt\n",
    "f_size = (23,26,30)\n",
    "image = ImageCaptcha(font_sizes = f_size)\n",
    "image.write(chars='ABCDEFGH', output='../captcha/ABCDEFGH_0.png')\n",
    "sample_img = Image.open('../captcha/ABCDEFGH_0.png')\n",
    "plt.imshow(sample_img)\n",
    "plt.show()"
   ]
  },
  {
   "cell_type": "code",
   "execution_count": 1,
   "metadata": {},
   "outputs": [
    {
     "ename": "FileNotFoundError",
     "evalue": "[Errno 2] No such file or directory: 'D:\\\\LAB\\\\CAPTCHA\\\\dataset_2.0/len_8_train/'",
     "output_type": "error",
     "traceback": [
      "\u001b[0;31m---------------------------------------------------------------------------\u001b[0m",
      "\u001b[0;31mFileNotFoundError\u001b[0m                         Traceback (most recent call last)",
      "Cell \u001b[0;32mIn[1], line 21\u001b[0m\n\u001b[1;32m     19\u001b[0m test_path \u001b[39m=\u001b[39m \u001b[39m'\u001b[39m\u001b[39mD:\u001b[39m\u001b[39m\\\\\u001b[39;00m\u001b[39mLAB\u001b[39m\u001b[39m\\\\\u001b[39;00m\u001b[39mCAPTCHA\u001b[39m\u001b[39m\\\\\u001b[39;00m\u001b[39mdataset_2.0/len_8_test/\u001b[39m\u001b[39m'\u001b[39m\n\u001b[1;32m     20\u001b[0m \u001b[39mif\u001b[39;00m(\u001b[39mnot\u001b[39;00m os\u001b[39m.\u001b[39mpath\u001b[39m.\u001b[39mexists(train_path)):\n\u001b[0;32m---> 21\u001b[0m     os\u001b[39m.\u001b[39;49mmkdir(train_path)\n\u001b[1;32m     22\u001b[0m \u001b[39mif\u001b[39;00m(\u001b[39mnot\u001b[39;00m os\u001b[39m.\u001b[39mpath\u001b[39m.\u001b[39mexists(test_path)):\n\u001b[1;32m     23\u001b[0m     os\u001b[39m.\u001b[39mmkdir(test_path)\n",
      "\u001b[0;31mFileNotFoundError\u001b[0m: [Errno 2] No such file or directory: 'D:\\\\LAB\\\\CAPTCHA\\\\dataset_2.0/len_8_train/'"
     ]
    }
   ],
   "source": [
    "\n",
    "#$audio = AudioCaptcha(voicedir='/path/to/voices')\n",
    "#image = ImageCaptcha()#fonts=['/path/A.ttf', '/path/B.ttf'])\n",
    "\n",
    "#data = audio.generate('1234')\n",
    "#audio.write('1234', 'out.wav')\n",
    "\n",
    "#data = image.generate('555')\n",
    "#print(image.write('Abc'))\n",
    "#print('ssad')\n",
    "llist = ['0','1','2','3','4','5','6','7','8','9','a','b','c','d','e','f','g','h','i','j','k','l','m','n','o','p','q','r','s','t','u','v','w','x','y','z',\n",
    "        'A','B','C','D','E','F','G','H','I','J','K','L','M','N','O','P','Q','R','S','T','U','V','W','X','Y','Z']\n",
    "# llist = ['0', '1', '2', '3', '4', '5', '6', '7', '8', '9', 'A', 'B', 'C', 'D', 'E', 'F', 'G', 'H', 'I', 'J', 'K',\n",
    "#        'L', 'M', 'N', 'O', 'P', 'Q', 'R', 'S', 'T', 'U', 'V', 'W', 'X', 'Y', 'Z']\n",
    "# llist = ['0','1','2','3','4','5','6','7','8','9',\n",
    "#          'a','b','c','d','e','f','g','h','i','j','k','l','m','n','o','p','q','r','s','t','u','v','w','x','y','z']\n",
    "# llist = ['0', '1', '2', '3', '4', '5', '6', '7', '8', '9',]\n",
    "train_path = \"D:\\\\LAB\\\\CAPTCHA\\\\dataset_2.0/len_8_train/\"#'/home/ning_a/Desktop/CAPTCHA/dataset_ablation/len_8/org/'\n",
    "clean_path = \"D:\\\\LAB\\\\CAPTCHA\\\\dataset_2.0/temp/\"#'/home/ning_a/Desktop/CAPTCHA/dataset_ablation/len_8/clean/'\n",
    "test_path = 'D:\\\\LAB\\\\CAPTCHA\\\\dataset_2.0/len_8_test/'\n",
    "if(not os.path.exists(train_path)):\n",
    "    os.mkdir(train_path)\n",
    "if(not os.path.exists(test_path)):\n",
    "    os.mkdir(test_path)\n",
    "for anyway in range(0,10000):\n",
    "    k1 =  sample(llist,1)[0]\n",
    "    k2 =  sample(llist,1)[0]\n",
    "    k3 =  sample(llist,1)[0]\n",
    "    k4 =  sample(llist,1)[0]\n",
    "    k5 =  sample(llist,1)[0]\n",
    "    k6 =  sample(llist,1)[0]\n",
    "    k7 =  sample(llist,1)[0]\n",
    "    k8 =  sample(llist,1)[0]\n",
    "#     v =  sample(llist,1)[0]\n",
    "#     a =  sample(llist,1)[0]\n",
    "#     image = ImageCaptcha(font_sizes=(29,32,35))\n",
    "    image = ImageCaptcha(font_sizes = f_size)\n",
    "    image.write(chars=k1+k2+k3+k4+k5+k6+k7+k8,index=anyway,path_name=train_path, path_name_clean = clean_path)\n",
    "    \n",
    "for anyway in range(0,1001):\n",
    "    k1 =  sample(llist,1)[0]\n",
    "    k2 =  sample(llist,1)[0]\n",
    "    k3 =  sample(llist,1)[0]\n",
    "    k4 =  sample(llist,1)[0]\n",
    "    k5 =  sample(llist,1)[0]\n",
    "    k6 =  sample(llist,1)[0]\n",
    "    k7 =  sample(llist,1)[0]\n",
    "    k8 =  sample(llist,1)[0]\n",
    "#     v =  sample(llist,1)[0]\n",
    "#     a =  sample(llist,1)[0]\n",
    "#     image = ImageCaptcha(font_sizes=(29,32,35))\n",
    "    image = ImageCaptcha(font_sizes = f_size)\n",
    "    image.write(chars=k1+k2+k3+k4+k5+k6+k7+k8,index=anyway,path_name=test_path)\n",
    "\n"
   ]
  },
  {
   "cell_type": "markdown",
   "metadata": {},
   "source": [
    "# Biased Dataset Generator"
   ]
  },
  {
   "cell_type": "code",
   "execution_count": 167,
   "metadata": {},
   "outputs": [
    {
     "ename": "FileNotFoundError",
     "evalue": "[WinError 3] The system cannot find the path specified: '/home/ning_a/Desktop/CAPTCHA/dark_web_captcha/rescator_data'",
     "output_type": "error",
     "traceback": [
      "\u001b[1;31m---------------------------------------------------------------------------\u001b[0m",
      "\u001b[1;31mFileNotFoundError\u001b[0m                         Traceback (most recent call last)",
      "\u001b[1;32m<ipython-input-167-ba20f2dbd52f>\u001b[0m in \u001b[0;36m<module>\u001b[1;34m\u001b[0m\n\u001b[0;32m      5\u001b[0m \u001b[1;31m# folder_name = 'rescator_me'\u001b[0m\u001b[1;33m\u001b[0m\u001b[1;33m\u001b[0m\u001b[1;33m\u001b[0m\u001b[0m\n\u001b[0;32m      6\u001b[0m \u001b[1;32mfor\u001b[0m \u001b[0mfolder_name\u001b[0m \u001b[1;32min\u001b[0m \u001b[0mname_list\u001b[0m\u001b[1;33m:\u001b[0m\u001b[1;33m\u001b[0m\u001b[1;33m\u001b[0m\u001b[0m\n\u001b[1;32m----> 7\u001b[1;33m     \u001b[0mcaptcha_name_list\u001b[0m \u001b[1;33m=\u001b[0m \u001b[0mos\u001b[0m\u001b[1;33m.\u001b[0m\u001b[0mlistdir\u001b[0m\u001b[1;33m(\u001b[0m\u001b[1;34m'/home/ning_a/Desktop/CAPTCHA/dark_web_captcha/'\u001b[0m\u001b[1;33m+\u001b[0m\u001b[0mfolder_name\u001b[0m\u001b[1;33m)\u001b[0m\u001b[1;33m\u001b[0m\u001b[1;33m\u001b[0m\u001b[0m\n\u001b[0m\u001b[0;32m      8\u001b[0m     \u001b[0mprint\u001b[0m\u001b[1;33m(\u001b[0m\u001b[0mlen\u001b[0m\u001b[1;33m(\u001b[0m\u001b[0mcaptcha_name_list\u001b[0m\u001b[1;33m)\u001b[0m\u001b[1;33m)\u001b[0m\u001b[1;33m\u001b[0m\u001b[1;33m\u001b[0m\u001b[0m\n\u001b[0;32m      9\u001b[0m     \u001b[1;32mfor\u001b[0m \u001b[0mcaptcha_name\u001b[0m \u001b[1;32min\u001b[0m \u001b[0mcaptcha_name_list\u001b[0m\u001b[1;33m:\u001b[0m\u001b[1;33m\u001b[0m\u001b[1;33m\u001b[0m\u001b[0m\n",
      "\u001b[1;31mFileNotFoundError\u001b[0m: [WinError 3] The system cannot find the path specified: '/home/ning_a/Desktop/CAPTCHA/dark_web_captcha/rescator_data'"
     ]
    }
   ],
   "source": [
    "from captcha_ning.captcha.image import ImageCaptcha\n",
    "from random import sample\n",
    "import os\n",
    "name_list = ['rescator_data']\n",
    "# folder_name = 'rescator_me'\n",
    "for folder_name in name_list:\n",
    "    captcha_name_list = os.listdir('/home/ning_a/Desktop/CAPTCHA/dark_web_captcha/'+folder_name)\n",
    "    print(len(captcha_name_list))\n",
    "    for captcha_name in captcha_name_list:\n",
    "#         if('_' in captcha_name):\n",
    "#             print(captcha_name)\n",
    "#         if(os.path.exists('/home/ning_a/Desktop/CAPTCHA/dataset_darkweb_bias/'+folder_name+'/'+captcha_name.split('.')[0]+'_199.png')):\n",
    "#             continue\n",
    "#         print(captcha_name)\n",
    "        for i in range(0,200):\n",
    "            image = ImageCaptcha()\n",
    "            index = str(i)\n",
    "            chars_input = captcha_name.split('.')[0]\n",
    "            if('_1' in captcha_name):\n",
    "                index = str(200+i)\n",
    "                chars_input = captcha_name.split('_')[0]\n",
    "            elif('_2' in captcha_name):\n",
    "                index = str(400+i)\n",
    "                chars_input = captcha_name.split('_')[0]\n",
    "            image.write(chars=chars_input,index=index,path_name='/home/ning_a/Desktop/CAPTCHA/dataset_darkweb_bias/'+folder_name+'/')"
   ]
  },
  {
   "cell_type": "code",
   "execution_count": 2,
   "metadata": {},
   "outputs": [
    {
     "name": "stdout",
     "output_type": "stream",
     "text": [
      "4\n"
     ]
    }
   ],
   "source": [
    "from random import sample\n",
    "list1 = [1, 2, 3, 4, 5]  \n",
    "print(sample(list1,1)[0]) "
   ]
  }
 ],
 "metadata": {
  "kernelspec": {
   "display_name": "Python 3",
   "language": "python",
   "name": "python3"
  },
  "language_info": {
   "codemirror_mode": {
    "name": "ipython",
    "version": 3
   },
   "file_extension": ".py",
   "mimetype": "text/x-python",
   "name": "python",
   "nbconvert_exporter": "python",
   "pygments_lexer": "ipython3",
   "version": "3.10.4"
  },
  "vscode": {
   "interpreter": {
    "hash": "3ad933181bd8a04b432d3370b9dc3b0662ad032c4dfaa4e4f1596c548f763858"
   }
  }
 },
 "nbformat": 4,
 "nbformat_minor": 2
}
